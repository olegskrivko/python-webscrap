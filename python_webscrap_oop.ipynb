{
 "cells": [
  {
   "cell_type": "code",
   "execution_count": 1,
   "id": "0202dc86",
   "metadata": {},
   "outputs": [],
   "source": [
    "import time\n",
    "from selenium import webdriver\n",
    "from selenium.webdriver.common.keys import Keys\n",
    "from selenium.webdriver.common.by import By\n",
    "from selenium.webdriver.support.ui import Select\n",
    "import random"
   ]
  },
  {
   "cell_type": "code",
   "execution_count": null,
   "id": "42bd20dd",
   "metadata": {},
   "outputs": [],
   "source": [
    "driver = webdriver.Firefox(executable_path=r\"C:\\Users\\olegs\\Documents\\geckodriver-v0.31.0-win64\\geckodriver\")\n",
    "driver.get(\"https://www.ss.lv/lv/real-estate/\")\n",
    "\n",
    "\n",
    "class RealEstate():\n",
    "    immovable_property_type = ['flats','homes-summer-residences','farms-estates','plots-and-lands','module-houses']\n",
    "    city = ['riga','riga-region','jurmala','liepaja-and-reg','ventspils-and-reg','jelgava-and-reg','kuldiga-and-reg']\n",
    "    deal_type = ['Visi','Pārdod','Pērk','Izīrē',' Īrē ','Maina','Dažādi']\n",
    "    def __init__(self, immovable_property_type = immovable_property_type[0], city = city[0], deal_type = deal_type[3]):\n",
    "        self.immovable_property_type = immovable_property_type\n",
    "        self.city = city\n",
    "        self.deal_type = deal_type\n",
    "        \n",
    "    def get_immovable_property_type(self, immovable_property_type):\n",
    "        #implicit wait\n",
    "        driver.implicitly_wait(0.5)\n",
    "        #maximize browser\n",
    "        driver.maximize_window()\n",
    "        #find element\n",
    "        btn = driver.find_element(By.XPATH,f'//a[contains(@href,\"/lv/real-estate/{immovable_property_type}/\")]')\n",
    "        #click element\n",
    "        btn.click()\n",
    "        #pause for random amount of sec\n",
    "        random_time = (random.random() + random.randint(1,4))\n",
    "        time.sleep(random_time)\n",
    "        print(f\"Your choice is {immovable_property_type}.\")\n",
    "        return immovable_property_type\n",
    "        \n",
    "    def get_city(self, immovable_property_type, city):\n",
    "        #find element\n",
    "        btn = driver.find_element(By.XPATH,f'//a[contains(@href,\"/lv/real-estate/{immovable_property_type}/{city}/\")]')\n",
    "        #click element\n",
    "        btn.click()\n",
    "        #pause for random amount of sec\n",
    "        random_time = (random.random() + random.randint(1,4))\n",
    "        time.sleep(random_time)\n",
    "        print(f\"Your choice is {city}.\")\n",
    "        return city\n",
    "        \n",
    "    def get_deal_type(self, deal_type):\n",
    "        pass"
   ]
  },
  {
   "cell_type": "code",
   "execution_count": 4,
   "id": "0cffa845",
   "metadata": {},
   "outputs": [],
   "source": [
    "flat = RealEstate()"
   ]
  },
  {
   "cell_type": "code",
   "execution_count": 5,
   "id": "c87294bc",
   "metadata": {},
   "outputs": [
    {
     "name": "stdout",
     "output_type": "stream",
     "text": [
      "flats\n"
     ]
    }
   ],
   "source": [
    "flat_type = flat.immovable_property_type\n",
    "print(flat_type)"
   ]
  },
  {
   "cell_type": "code",
   "execution_count": 6,
   "id": "26d0a55f",
   "metadata": {},
   "outputs": [
    {
     "name": "stdout",
     "output_type": "stream",
     "text": [
      "riga\n"
     ]
    }
   ],
   "source": [
    "flat_city = flat.city\n",
    "print(flat_city)"
   ]
  },
  {
   "cell_type": "code",
   "execution_count": 7,
   "id": "d9b9aaa7",
   "metadata": {},
   "outputs": [
    {
     "name": "stdout",
     "output_type": "stream",
     "text": [
      "Izīrē\n"
     ]
    }
   ],
   "source": [
    "flat_deal_type = flat.deal_type\n",
    "print(flat_deal_type)"
   ]
  },
  {
   "cell_type": "code",
   "execution_count": 8,
   "id": "06c215dc",
   "metadata": {},
   "outputs": [
    {
     "name": "stdout",
     "output_type": "stream",
     "text": [
      "Your choice is flats.\n"
     ]
    }
   ],
   "source": [
    "flat_prop_type = flat.get_immovable_property_type(flat_type)"
   ]
  },
  {
   "cell_type": "code",
   "execution_count": null,
   "id": "dd09d1d1",
   "metadata": {},
   "outputs": [
    {
     "name": "stdout",
     "output_type": "stream",
     "text": [
      "Your choice is riga.\n"
     ]
    }
   ],
   "source": [
    "flat_city = flat.get_city(flat_prop_type,flat_city)"
   ]
  },
  {
   "cell_type": "code",
   "execution_count": 13,
   "id": "8b858491",
   "metadata": {},
   "outputs": [],
   "source": [
    "class RealEstateFilter(RealEstate):\n",
    "    #default values\n",
    "    mprice_min = \"100\"\n",
    "    mprice_max = \"500\"\n",
    "    mrooms_min = \"2\"\n",
    "    mrooms_max = \"3\"\n",
    "    marea_min = \"25\"\n",
    "    marea_max = \"95\"\n",
    "    mfloor_min = \"2\"\n",
    "    mfloor_max = \"9\"\n",
    "    mdeal_type = ['Visi','Pārdod','Pērk','Izīrē',' Īrē ','Maina','Dažādi']\n",
    "    mbuilding_type = ['103.','119.','467.','Čehu pr.','Hrušč.','LT proj.','M. ģim.','P. kara','Priv. m.','Renov.','Specpr.','Staļina','Jaun.','']\n",
    "    def __init__(self, \n",
    "                 price_min = mprice_min, \n",
    "                 price_max = mprice_max, \n",
    "                 rooms_min = mrooms_min, \n",
    "                 rooms_max = mrooms_max, \n",
    "                 area_min = marea_min, \n",
    "                 area_max = marea_max, \n",
    "                 floor_min = mfloor_min, \n",
    "                 floor_max = mfloor_max, \n",
    "                 deal_type = mdeal_type[3], \n",
    "                 building_type = mbuilding_type[-1]\n",
    "                ):\n",
    "\n",
    "        self.price_min = price_min\n",
    "        self.price_max = price_max\n",
    "        self.rooms_min = rooms_min\n",
    "        self.rooms_max = rooms_max\n",
    "        self.area_min = area_min\n",
    "        self.area_max = area_max\n",
    "        self.floor_min = floor_min\n",
    "        self.floor_max = floor_max\n",
    "        self.building_type = building_type\n",
    "        self.deal_type = deal_type\n",
    "        \n",
    "    def get_price_min(self, price_min=100):\n",
    "        #filter price\n",
    "        filter_price_min = driver.find_element(By.XPATH,f'//input[contains(@name,\"topt[8][min]\")]')\n",
    "        #filter_price_min.click();\n",
    "        #clear old value if it was unclear\n",
    "        filter_price_min.clear()\n",
    "        #enter min price\n",
    "        filter_price_min.send_keys(price_min)\n",
    "        #see letters in input\n",
    "        filter_price_min.send_keys(Keys.RETURN)\n",
    "        random_time = (random.random() + random.randint(1,4))\n",
    "        time.sleep(random_time)\n",
    "        print(f\"Minimal price is {price_min}.\")\n",
    "        return price_min\n",
    "    \n",
    "    def get_price_max(self, price_max=mprice_max):\n",
    "        #var ielikt parbaudi ka patiesam max ir lielaks par min un nav negativs\n",
    "        #filter price\n",
    "        filter_price_max = driver.find_element(By.XPATH,f'//input[contains(@name,\"topt[8][max]\")]')\n",
    "        #filter_price_max.click();\n",
    "        #clear old value if it was unclear\n",
    "        filter_price_max.clear()\n",
    "        #enter max price\n",
    "        filter_price_max.send_keys(price_max)\n",
    "        #see letters in input\n",
    "        filter_price_max.send_keys(Keys.RETURN)\n",
    "        random_time = (random.random() + random.randint(1,4))\n",
    "        time.sleep(random_time)\n",
    "        print(f\"Maximal price is {price_max}.\")\n",
    "        return price_max\n",
    "    \n",
    "    def get_rooms_min(self, rooms_min):\n",
    "        #filter rooms\n",
    "        sel = Select(driver.find_element(By.XPATH,f'//select[contains(@name,\"topt[1][min]\")]'))\n",
    "        #select by select_by_visible_text() method\n",
    "        sel.select_by_visible_text(rooms_min)\n",
    "        random_time = (random.random() + random.randint(1,4))\n",
    "        time.sleep(random_time)\n",
    "        print(f\"Min rooms chosen {rooms_min}.\")\n",
    "        return rooms_min\n",
    "        \n",
    "    def get_rooms_max(self, rooms_max):\n",
    "        #filter rooms\n",
    "        sel = Select(driver.find_element(By.XPATH,f'//select[contains(@name,\"topt[1][max]\")]'))\n",
    "        #select by select_by_visible_text() method\n",
    "        sel.select_by_visible_text(rooms_max)\n",
    "        random_time = (random.random() + random.randint(1,4))\n",
    "        time.sleep(random_time)\n",
    "        print(f\"Max rooms chosen {rooms_max}.\")\n",
    "        return rooms_max\n",
    "    \n",
    "    def get_area_min(self, area_min):\n",
    "        #filter area\n",
    "        filter_area_min = driver.find_element(By.XPATH,f'//select[contains(@name,\"topt[3][min]\")]')\n",
    "        #clear old value if it was unclear\n",
    "        filter_area_min.click()\n",
    "        filter_area_min.clear()\n",
    "        #enter min price\n",
    "        filter_area_min.send_keys(area_min)\n",
    "        #see letters in input\n",
    "        filter_area_min.send_keys(Keys.RETURN)\n",
    "        random_time = (random.random() + random.randint(1,4))\n",
    "        time.sleep(random_time)\n",
    "        print(f\"Min area entered {area_min}.\")\n",
    "        return area_min\n",
    "    \n",
    "    def get_area_max(self, area_max=marea_max):\n",
    "        #filter area\n",
    "        filter_area_max = driver.find_element(By.XPATH,f'//select[contains(@name,\"topt[3][max]\")]')\n",
    "        #clear old value if it was unclear\n",
    "        filter_area_max.click()\n",
    "        filter_area_max.clear()\n",
    "        #enter max price\n",
    "        filter_area_max.send_keys(area_max)\n",
    "        #see letters in input\n",
    "        filter_area_max.send_keys(Keys.RETURN)\n",
    "        random_time = (random.random() + random.randint(1,4))\n",
    "        time.sleep(random_time)\n",
    "        print(f\"Max area entered {area_max}.\")\n",
    "        return area_max\n",
    "    \n",
    "    def get_floor_min(self, floor_min):\n",
    "        #filter floor\n",
    "        filter_floor_min = driver.find_element(By.XPATH,f'//select[contains(@name,\"topt[4][min]\")]')\n",
    "        #clear old value if it was unclear\n",
    "        filter_floor_min.click()\n",
    "        filter_floor_min.clear()\n",
    "        #enter min price\n",
    "        filter_floor_min.send_keys(floor_min)\n",
    "        #see letters in input\n",
    "        filter_floor_min.send_keys(Keys.RETURN)\n",
    "        random_time = (random.random() + random.randint(1,4))\n",
    "        time.sleep(random_time)\n",
    "        print(f\"Min floor entered {floor_min}.\")\n",
    "        return floor_min\n",
    "        \n",
    "    def get_floor_max(self, floor_max):\n",
    "        #filter floor\n",
    "        filter_area_max = driver.find_element(By.XPATH,f'//select[contains(@name,\"topt[4][max]\")]')\n",
    "        #clear old value if it was unclear\n",
    "        filter_area_max.click()\n",
    "        filter_area_max.clear()\n",
    "        #enter max price\n",
    "        filter_area_max.send_keys(floor_max)\n",
    "        #see letters in input\n",
    "        filter_area_max.send_keys(Keys.RETURN)\n",
    "        random_time = (random.random() + random.randint(1,4))\n",
    "        time.sleep(random_time)\n",
    "        print(f\"Max floor entered {floor_max}.\")\n",
    "        return floor_max\n",
    "        \n",
    "    def get_building_type(self, building_type):        \n",
    "        #building type\n",
    "        sel = Select(driver.find_element(By.XPATH,f'//select[contains(@name,\"opt[6]\")]'))\n",
    "        #select by select_by_visible_text() method\n",
    "        sel.select_by_visible_text(self.building_type)\n",
    "        random_time = (random.random() + random.randint(1,4))\n",
    "        time.sleep(random_time)\n",
    "        print(f\"Building type chosen {self.building_type}.\")\n",
    "        return self.building_type\n",
    "\n",
    "    def get_deal_type(self, deal_type):\n",
    "        #filter deal type\n",
    "        #sel = Select(driver.find_element(By.XPATH, '/html/body/div[4]/div/table/tbody/tr/td/div[1]/table/tbody/tr/td/form/div/span[2]/select'))\n",
    "        sel = Select(driver.find_element(By.XPATH,f'//select[contains(@name,\"sid\")]'))\n",
    "        #select by select_by_visible_text() method\n",
    "        sel.select_by_visible_text(self.deal_type)\n",
    "        random_time = (random.random() + random.randint(1,4))\n",
    "        time.sleep(random_time)\n",
    "        print(f\"Deal type chosen {self.deal_type}\")\n",
    "        return self.deal_type\n",
    "        \n",
    "    def get_district(self):\n",
    "        #filter district\n",
    "        sel = Select(driver.find_element(By.XPATH, '/html/body/div[4]/div/table/tbody/tr/td/div[1]/table/tbody/tr/td/form/div/span[3]/select'))\n",
    "        #select by select_by_visible_text() method\n",
    "        sel.select_by_visible_text(disctrict[2])\n",
    "        random_time = (random.random() + random.randint(1,4))\n",
    "        time.sleep(random_time)\n",
    "        print(f\"District chosen {disctrict[2]}\")\n",
    "        #return\n",
    "    "
   ]
  },
  {
   "cell_type": "code",
   "execution_count": 14,
   "id": "5e07a76b",
   "metadata": {},
   "outputs": [],
   "source": [
    "flat_filter = RealEstateFilter()"
   ]
  },
  {
   "cell_type": "code",
   "execution_count": null,
   "id": "56a15391",
   "metadata": {},
   "outputs": [],
   "source": [
    "a = flat_filter.get_price_min(300)"
   ]
  },
  {
   "cell_type": "code",
   "execution_count": null,
   "id": "34578afc",
   "metadata": {},
   "outputs": [
    {
     "name": "stdout",
     "output_type": "stream",
     "text": [
      "Maximal price is 600.\n"
     ]
    }
   ],
   "source": [
    "b = flat_filter.get_price_max(600)"
   ]
  },
  {
   "cell_type": "code",
   "execution_count": null,
   "id": "ffa3c409",
   "metadata": {},
   "outputs": [
    {
     "data": {
      "text/plain": [
       "'95'"
      ]
     },
     "execution_count": 87,
     "metadata": {},
     "output_type": "execute_result"
    }
   ],
   "source": [
    "flat_filter.marea_max"
   ]
  },
  {
   "cell_type": "code",
   "execution_count": null,
   "id": "c253ed22",
   "metadata": {},
   "outputs": [],
   "source": [
    "flat_filter.get_area_max(35)"
   ]
  }
 ],
 "metadata": {
  "kernelspec": {
   "display_name": "Python 3",
   "language": "python",
   "name": "python3"
  },
  "language_info": {
   "codemirror_mode": {
    "name": "ipython",
    "version": 3
   },
   "file_extension": ".py",
   "mimetype": "text/x-python",
   "name": "python",
   "nbconvert_exporter": "python",
   "pygments_lexer": "ipython3",
   "version": "3.11.1"
  },
  "vscode": {
   "interpreter": {
    "hash": "ad29236c7b7d505889b83742f2dbb58d1581a6a28ee40dec8470c42efe3519df"
   }
  }
 },
 "nbformat": 4,
 "nbformat_minor": 5
}
